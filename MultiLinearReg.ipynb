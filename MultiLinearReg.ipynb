{
  "nbformat": 4,
  "nbformat_minor": 0,
  "metadata": {
    "colab": {
      "provenance": [],
      "authorship_tag": "ABX9TyOf3nu8SXtVGACRkNuvHaoh",
      "include_colab_link": true
    },
    "kernelspec": {
      "name": "python3",
      "display_name": "Python 3"
    },
    "language_info": {
      "name": "python"
    }
  },
  "cells": [
    {
      "cell_type": "markdown",
      "metadata": {
        "id": "view-in-github",
        "colab_type": "text"
      },
      "source": [
        "<a href=\"https://colab.research.google.com/github/space-debris/MultipleLinearRegression/blob/main/MultiLinearReg.ipynb\" target=\"_parent\"><img src=\"https://colab.research.google.com/assets/colab-badge.svg\" alt=\"Open In Colab\"/></a>"
      ]
    },
    {
      "cell_type": "markdown",
      "source": [
        "Data preprocessing"
      ],
      "metadata": {
        "id": "vA93txVJA3c8"
      }
    },
    {
      "cell_type": "code",
      "execution_count": 25,
      "metadata": {
        "id": "ZI-iv-L9Awlw"
      },
      "outputs": [],
      "source": [
        "import numpy as np\n",
        "import pandas as pd"
      ]
    },
    {
      "cell_type": "markdown",
      "source": [
        "Importing dataset"
      ],
      "metadata": {
        "id": "eJs0CpdXA-um"
      }
    },
    {
      "cell_type": "code",
      "source": [
        "dataset = pd.read_csv(\"https://raw.githubusercontent.com/space-debris/MultipleLinearRegression/main/Housepricing.csv\")\n",
        "X = dataset.iloc[:,:-1]\n",
        "Y = dataset.iloc[:,-1]"
      ],
      "metadata": {
        "id": "Q9iZs_ClBBiu"
      },
      "execution_count": 26,
      "outputs": []
    },
    {
      "cell_type": "code",
      "source": [
        "print(X)"
      ],
      "metadata": {
        "colab": {
          "base_uri": "https://localhost:8080/"
        },
        "id": "yBAh6VL1wgtS",
        "outputId": "5caca9f1-ea6f-45cd-cd70-b9be27ad2804"
      },
      "execution_count": 33,
      "outputs": [
        {
          "output_type": "stream",
          "name": "stdout",
          "text": [
            "[[0.0 1.0 0.0 0.0 0.0 1.0 2100 3 2 2 2005]\n",
            " [1.0 0.0 0.0 1.0 0.0 0.0 1600 3 2 1 1998]\n",
            " [0.0 0.0 1.0 0.0 0.0 1.0 2400 4 3 2 2010]\n",
            " [0.0 1.0 0.0 1.0 0.0 0.0 1416 2 1 1 1995]\n",
            " [1.0 0.0 0.0 0.0 1.0 0.0 3000 4 3 2 2015]\n",
            " [0.0 0.0 1.0 0.0 0.0 1.0 1985 4 2 2 2000]\n",
            " [0.0 1.0 0.0 0.0 1.0 0.0 1534 3 2 2 2002]\n",
            " [1.0 0.0 0.0 1.0 0.0 0.0 1427 3 2 1 1997]\n",
            " [0.0 1.0 0.0 1.0 0.0 0.0 1380 3 1 1 1998]\n",
            " [0.0 0.0 1.0 0.0 1.0 0.0 1494 3 2 2 2018]\n",
            " [0.0 1.0 0.0 0.0 0.0 1.0 2100 3 2 2 2003]\n",
            " [1.0 0.0 0.0 1.0 0.0 0.0 1750 3 2 1 2001]\n",
            " [0.0 0.0 1.0 0.0 0.0 1.0 2600 4 3 2 2009]\n",
            " [0.0 1.0 0.0 1.0 0.0 0.0 1578 2 1 1 1996]\n",
            " [1.0 0.0 0.0 0.0 1.0 0.0 3150 4 3 2 2016]\n",
            " [0.0 0.0 1.0 0.0 0.0 1.0 2020 4 2 2 2004]\n",
            " [0.0 1.0 0.0 0.0 1.0 0.0 1685 3 2 2 2008]\n",
            " [1.0 0.0 0.0 1.0 0.0 0.0 1465 3 1 1 1999]\n",
            " [0.0 1.0 0.0 1.0 0.0 0.0 1590 3 2 1 1996]\n",
            " [0.0 0.0 1.0 0.0 1.0 0.0 1680 3 2 2 2019]\n",
            " [0.0 1.0 0.0 0.0 0.0 1.0 1850 3 2 2 2012]\n",
            " [1.0 0.0 0.0 1.0 0.0 0.0 2250 4 2 2 2014]\n",
            " [0.0 0.0 1.0 0.0 0.0 1.0 2700 4 3 2 2007]\n",
            " [0.0 1.0 0.0 1.0 0.0 0.0 1340 2 1 1 1994]\n",
            " [1.0 0.0 0.0 0.0 1.0 0.0 1900 3 2 1 2006]\n",
            " [0.0 0.0 1.0 0.0 0.0 1.0 2255 4 3 2 2011]\n",
            " [0.0 1.0 0.0 1.0 0.0 0.0 1720 3 2 1 1997]\n",
            " [1.0 0.0 0.0 1.0 0.0 0.0 1850 3 2 1 2005]\n",
            " [0.0 0.0 1.0 0.0 1.0 0.0 2300 4 3 2 2013]\n",
            " [0.0 1.0 0.0 0.0 0.0 1.0 1650 3 2 2 2008]\n",
            " [1.0 0.0 0.0 0.0 0.0 1.0 1750 3 2 2 2002]\n",
            " [0.0 0.0 1.0 0.0 1.0 0.0 1950 4 2 2 2017]\n",
            " [0.0 1.0 0.0 1.0 0.0 0.0 1200 2 1 1 1993]\n",
            " [1.0 0.0 0.0 0.0 0.0 1.0 2140 3 2 2 2009]\n",
            " [0.0 0.0 1.0 1.0 0.0 0.0 1750 3 2 1 2004]\n",
            " [0.0 1.0 0.0 0.0 1.0 0.0 2400 4 3 2 2016]\n",
            " [1.0 0.0 0.0 0.0 0.0 1.0 1625 3 2 2 2010]\n",
            " [0.0 0.0 1.0 1.0 0.0 0.0 1950 3 2 1 2003]\n",
            " [0.0 1.0 0.0 0.0 1.0 0.0 2050 3 2 2 2018]\n",
            " [1.0 0.0 0.0 0.0 1.0 0.0 2450 4 3 2 2015]\n",
            " [0.0 0.0 1.0 1.0 0.0 0.0 1400 2 1 1 1996]\n",
            " [0.0 1.0 0.0 1.0 0.0 0.0 1850 3 2 1 2000]\n",
            " [1.0 0.0 0.0 0.0 1.0 0.0 1980 3 2 2 2007]\n",
            " [0.0 0.0 1.0 0.0 0.0 1.0 2200 4 3 2 2012]\n",
            " [0.0 1.0 0.0 1.0 0.0 0.0 1780 3 2 1 1999]\n",
            " [1.0 0.0 0.0 0.0 1.0 0.0 2250 3 2 2 2019]\n",
            " [0.0 0.0 1.0 0.0 0.0 1.0 1900 3 2 2 2013]\n",
            " [0.0 1.0 0.0 0.0 1.0 0.0 2125 4 3 2 2006]\n",
            " [1.0 0.0 0.0 1.0 0.0 0.0 1400 3 1 1 1994]\n",
            " [0.0 0.0 1.0 1.0 0.0 0.0 2400 3 2 2 2005]\n",
            " [0.0 1.0 0.0 0.0 1.0 0.0 1950 4 3 2 2014]\n",
            " [1.0 0.0 0.0 0.0 0.0 1.0 2150 4 2 2 2011]\n",
            " [0.0 0.0 1.0 1.0 0.0 0.0 1690 3 2 1 2003]]\n"
          ]
        }
      ]
    },
    {
      "cell_type": "markdown",
      "source": [
        "Encoding categorical data"
      ],
      "metadata": {
        "id": "LkODaA8vpAdJ"
      }
    },
    {
      "cell_type": "code",
      "source": [
        "from sklearn.compose import ColumnTransformer\n",
        "from sklearn.preprocessing import OneHotEncoder\n",
        "col_trans = ColumnTransformer(transformers=[('encoder',OneHotEncoder(),[5])],remainder='passthrough')\n",
        "X = np.array(col_trans.fit_transform(X))\n",
        "\n",
        "\n",
        "\n",
        "\n",
        "\n"
      ],
      "metadata": {
        "id": "CDsrqkgipFRM"
      },
      "execution_count": 65,
      "outputs": []
    },
    {
      "cell_type": "code",
      "source": [
        "col_trans = ColumnTransformer(transformers=[('encoder',OneHotEncoder(),[8])],remainder='passthrough')\n",
        "X = np.array(col_trans.fit_transform(X))"
      ],
      "metadata": {
        "id": "TlUehKOhsNDO"
      },
      "execution_count": 42,
      "outputs": []
    },
    {
      "cell_type": "markdown",
      "source": [
        "Splitting the dataset into train and test sets."
      ],
      "metadata": {
        "id": "K9Ksqgy-CGvE"
      }
    },
    {
      "cell_type": "code",
      "source": [
        "from sklearn.model_selection import train_test_split\n",
        "X_train, X_test, Y_train, Y_test = train_test_split(X,Y,test_size=0.2, random_state=98312)"
      ],
      "metadata": {
        "id": "kPniLIkvCK2m"
      },
      "execution_count": 43,
      "outputs": []
    },
    {
      "cell_type": "markdown",
      "source": [
        "Training the model on training set"
      ],
      "metadata": {
        "id": "-zJWpNnCou84"
      }
    },
    {
      "cell_type": "code",
      "source": [
        "from sklearn.linear_model import LinearRegression\n",
        "regressor = LinearRegression()\n",
        "regressor.fit(X_train,Y_train)"
      ],
      "metadata": {
        "colab": {
          "base_uri": "https://localhost:8080/",
          "height": 75
        },
        "id": "2M2vhCntoyhA",
        "outputId": "435b3d7e-0cbc-4ce3-fbf3-33951c010b4b"
      },
      "execution_count": 44,
      "outputs": [
        {
          "output_type": "execute_result",
          "data": {
            "text/plain": [
              "LinearRegression()"
            ],
            "text/html": [
              "<style>#sk-container-id-3 {color: black;background-color: white;}#sk-container-id-3 pre{padding: 0;}#sk-container-id-3 div.sk-toggleable {background-color: white;}#sk-container-id-3 label.sk-toggleable__label {cursor: pointer;display: block;width: 100%;margin-bottom: 0;padding: 0.3em;box-sizing: border-box;text-align: center;}#sk-container-id-3 label.sk-toggleable__label-arrow:before {content: \"▸\";float: left;margin-right: 0.25em;color: #696969;}#sk-container-id-3 label.sk-toggleable__label-arrow:hover:before {color: black;}#sk-container-id-3 div.sk-estimator:hover label.sk-toggleable__label-arrow:before {color: black;}#sk-container-id-3 div.sk-toggleable__content {max-height: 0;max-width: 0;overflow: hidden;text-align: left;background-color: #f0f8ff;}#sk-container-id-3 div.sk-toggleable__content pre {margin: 0.2em;color: black;border-radius: 0.25em;background-color: #f0f8ff;}#sk-container-id-3 input.sk-toggleable__control:checked~div.sk-toggleable__content {max-height: 200px;max-width: 100%;overflow: auto;}#sk-container-id-3 input.sk-toggleable__control:checked~label.sk-toggleable__label-arrow:before {content: \"▾\";}#sk-container-id-3 div.sk-estimator input.sk-toggleable__control:checked~label.sk-toggleable__label {background-color: #d4ebff;}#sk-container-id-3 div.sk-label input.sk-toggleable__control:checked~label.sk-toggleable__label {background-color: #d4ebff;}#sk-container-id-3 input.sk-hidden--visually {border: 0;clip: rect(1px 1px 1px 1px);clip: rect(1px, 1px, 1px, 1px);height: 1px;margin: -1px;overflow: hidden;padding: 0;position: absolute;width: 1px;}#sk-container-id-3 div.sk-estimator {font-family: monospace;background-color: #f0f8ff;border: 1px dotted black;border-radius: 0.25em;box-sizing: border-box;margin-bottom: 0.5em;}#sk-container-id-3 div.sk-estimator:hover {background-color: #d4ebff;}#sk-container-id-3 div.sk-parallel-item::after {content: \"\";width: 100%;border-bottom: 1px solid gray;flex-grow: 1;}#sk-container-id-3 div.sk-label:hover label.sk-toggleable__label {background-color: #d4ebff;}#sk-container-id-3 div.sk-serial::before {content: \"\";position: absolute;border-left: 1px solid gray;box-sizing: border-box;top: 0;bottom: 0;left: 50%;z-index: 0;}#sk-container-id-3 div.sk-serial {display: flex;flex-direction: column;align-items: center;background-color: white;padding-right: 0.2em;padding-left: 0.2em;position: relative;}#sk-container-id-3 div.sk-item {position: relative;z-index: 1;}#sk-container-id-3 div.sk-parallel {display: flex;align-items: stretch;justify-content: center;background-color: white;position: relative;}#sk-container-id-3 div.sk-item::before, #sk-container-id-3 div.sk-parallel-item::before {content: \"\";position: absolute;border-left: 1px solid gray;box-sizing: border-box;top: 0;bottom: 0;left: 50%;z-index: -1;}#sk-container-id-3 div.sk-parallel-item {display: flex;flex-direction: column;z-index: 1;position: relative;background-color: white;}#sk-container-id-3 div.sk-parallel-item:first-child::after {align-self: flex-end;width: 50%;}#sk-container-id-3 div.sk-parallel-item:last-child::after {align-self: flex-start;width: 50%;}#sk-container-id-3 div.sk-parallel-item:only-child::after {width: 0;}#sk-container-id-3 div.sk-dashed-wrapped {border: 1px dashed gray;margin: 0 0.4em 0.5em 0.4em;box-sizing: border-box;padding-bottom: 0.4em;background-color: white;}#sk-container-id-3 div.sk-label label {font-family: monospace;font-weight: bold;display: inline-block;line-height: 1.2em;}#sk-container-id-3 div.sk-label-container {text-align: center;}#sk-container-id-3 div.sk-container {/* jupyter's `normalize.less` sets `[hidden] { display: none; }` but bootstrap.min.css set `[hidden] { display: none !important; }` so we also need the `!important` here to be able to override the default hidden behavior on the sphinx rendered scikit-learn.org. See: https://github.com/scikit-learn/scikit-learn/issues/21755 */display: inline-block !important;position: relative;}#sk-container-id-3 div.sk-text-repr-fallback {display: none;}</style><div id=\"sk-container-id-3\" class=\"sk-top-container\"><div class=\"sk-text-repr-fallback\"><pre>LinearRegression()</pre><b>In a Jupyter environment, please rerun this cell to show the HTML representation or trust the notebook. <br />On GitHub, the HTML representation is unable to render, please try loading this page with nbviewer.org.</b></div><div class=\"sk-container\" hidden><div class=\"sk-item\"><div class=\"sk-estimator sk-toggleable\"><input class=\"sk-toggleable__control sk-hidden--visually\" id=\"sk-estimator-id-3\" type=\"checkbox\" checked><label for=\"sk-estimator-id-3\" class=\"sk-toggleable__label sk-toggleable__label-arrow\">LinearRegression</label><div class=\"sk-toggleable__content\"><pre>LinearRegression()</pre></div></div></div></div></div>"
            ]
          },
          "metadata": {},
          "execution_count": 44
        }
      ]
    },
    {
      "cell_type": "markdown",
      "source": [
        "Predictions"
      ],
      "metadata": {
        "id": "-d1T0yBXvKTN"
      }
    },
    {
      "cell_type": "code",
      "source": [
        "Y_pred = regressor.predict(X_test)\n",
        "np.set_printoptions(precision=2)\n",
        "Y_pred = np.array(Y_pred)\n",
        "Y_test = np.array(Y_test)\n",
        "print(np.concatenate((Y_pred.reshape(len(Y_pred),1), Y_test.reshape(len(Y_test),1)),1))"
      ],
      "metadata": {
        "colab": {
          "base_uri": "https://localhost:8080/"
        },
        "id": "oaAAF1t9vLyv",
        "outputId": "59f11be2-e0aa-4e31-f4b1-30de2428f57b"
      },
      "execution_count": 45,
      "outputs": [
        {
          "output_type": "stream",
          "name": "stdout",
          "text": [
            "[[412905.93 410000.  ]\n",
            " [298271.59 295000.  ]\n",
            " [258426.15 270000.  ]\n",
            " [306383.89 305000.  ]\n",
            " [250389.99 240000.  ]\n",
            " [347266.73 370000.  ]\n",
            " [401670.57 410000.  ]\n",
            " [358452.1  350000.  ]\n",
            " [205381.95 210000.  ]\n",
            " [270792.4  265000.  ]\n",
            " [271213.93 295000.  ]]\n"
          ]
        }
      ]
    }
  ]
}